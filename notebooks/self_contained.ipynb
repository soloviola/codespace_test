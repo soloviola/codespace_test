{
  "nbformat": 4,
  "nbformat_minor": 0,
  "metadata": {
    "colab": {
      "provenance": [],
      "toc_visible": true,
      "include_colab_link": true
    },
    "kernelspec": {
      "name": "python3",
      "display_name": "Python 3"
    },
    "language_info": {
      "name": "python"
    }
  },
  "cells": [
    {
      "cell_type": "markdown",
      "metadata": {
        "id": "view-in-github",
        "colab_type": "text"
      },
      "source": [
        "<a href=\"https://colab.research.google.com/github/soloviola/codespace_test/blob/main/notebooks/self_contained.ipynb\" target=\"_parent\"><img src=\"https://colab.research.google.com/assets/colab-badge.svg\" alt=\"Open In Colab\"/></a>"
      ]
    },
    {
      "cell_type": "code",
      "execution_count": 1,
      "metadata": {
        "id": "5dJnS60NQ1BL",
        "outputId": "819c35b3-3c2f-4e32-f983-60dd905bb776",
        "colab": {
          "base_uri": "https://localhost:8080/"
        }
      },
      "outputs": [
        {
          "output_type": "stream",
          "name": "stdout",
          "text": [
            "\u001b[2K   \u001b[90m━━━━━━━━━━━━━━━━━━━━━━━━━━━━━━━━━━━━━━━━\u001b[0m \u001b[32m558.7/558.7 kB\u001b[0m \u001b[31m10.6 MB/s\u001b[0m eta \u001b[36m0:00:00\u001b[0m\n",
            "\u001b[2K   \u001b[90m━━━━━━━━━━━━━━━━━━━━━━━━━━━━━━━━━━━━━━━━\u001b[0m \u001b[32m95.2/95.2 kB\u001b[0m \u001b[31m5.3 MB/s\u001b[0m eta \u001b[36m0:00:00\u001b[0m\n",
            "\u001b[2K   \u001b[90m━━━━━━━━━━━━━━━━━━━━━━━━━━━━━━━━━━━━━━━━\u001b[0m \u001b[32m454.8/454.8 kB\u001b[0m \u001b[31m23.0 MB/s\u001b[0m eta \u001b[36m0:00:00\u001b[0m\n",
            "\u001b[2K   \u001b[90m━━━━━━━━━━━━━━━━━━━━━━━━━━━━━━━━━━━━━━━━\u001b[0m \u001b[32m76.4/76.4 kB\u001b[0m \u001b[31m4.7 MB/s\u001b[0m eta \u001b[36m0:00:00\u001b[0m\n",
            "\u001b[2K   \u001b[90m━━━━━━━━━━━━━━━━━━━━━━━━━━━━━━━━━━━━━━━━\u001b[0m \u001b[32m72.0/72.0 kB\u001b[0m \u001b[31m3.5 MB/s\u001b[0m eta \u001b[36m0:00:00\u001b[0m\n",
            "\u001b[?25h"
          ]
        }
      ],
      "source": [
        "# run a shell command to install modal\n",
        "!pip install -qqq modal"
      ]
    },
    {
      "cell_type": "code",
      "source": [
        "# clean up Jupyter cell outputs for shell commands a bit\n",
        "%env TERM=dumb"
      ],
      "metadata": {
        "id": "KigDYhhWV5QH",
        "outputId": "44b170a9-65dc-40ed-c7ea-faf6654a51d7",
        "colab": {
          "base_uri": "https://localhost:8080/"
        }
      },
      "execution_count": 2,
      "outputs": [
        {
          "output_type": "stream",
          "name": "stdout",
          "text": [
            "env: TERM=dumb\n"
          ]
        }
      ]
    },
    {
      "cell_type": "code",
      "source": [
        "# setup modal, including creating an account\n",
        "!modal setup"
      ],
      "metadata": {
        "id": "s1aKocnkQ5z5",
        "outputId": "9652b425-bb2f-4f3c-991f-fe80f9b7e8de",
        "colab": {
          "base_uri": "https://localhost:8080/"
        }
      },
      "execution_count": 3,
      "outputs": [
        {
          "output_type": "stream",
          "name": "stdout",
          "text": [
            "Was not able to launch web browser\n",
            "Please go to this URL manually and complete the flow:\n",
            "\n",
            "https://modal.com/token-flow/tf-6w0WRByaxLjU8x7ipigZ8P\n",
            "\n",
            "\n",
            "\n",
            "Web authentication finished successfully!\n",
            "Token is connected to the suno-ai workspace.\n",
            "Verifying token against https://api.modal.com\n",
            "Token verified successfully!\n",
            "\n",
            "Token written to /root/.modal.toml in profile suno-ai.\n"
          ]
        }
      ]
    },
    {
      "cell_type": "code",
      "source": [
        "!git clone https://github.com/modal-labs/music-video-gen"
      ],
      "metadata": {
        "id": "wVquJPb7RPqN",
        "outputId": "711648b8-f224-4b2d-ae2f-4100bcde2fa9",
        "colab": {
          "base_uri": "https://localhost:8080/"
        }
      },
      "execution_count": 4,
      "outputs": [
        {
          "output_type": "stream",
          "name": "stdout",
          "text": [
            "Cloning into 'music-video-gen'...\n",
            "remote: Enumerating objects: 108, done.        \n",
            "remote: Counting objects: 100% (108/108), done.        \n",
            "remote: Compressing objects: 100% (80/80), done.        \n",
            "remote: Total 108 (delta 39), reused 84 (delta 22), pack-reused 0 (from 0)        \n",
            "Receiving objects: 100% (108/108), 6.31 MiB | 31.97 MiB/s, done.\n",
            "Resolving deltas: 100% (39/39), done.\n"
          ]
        }
      ]
    },
    {
      "cell_type": "code",
      "source": [
        "%cd /content/music-video-gen"
      ],
      "metadata": {
        "id": "8BzHzveDRZ1D",
        "outputId": "fd1fb802-6137-4733-ea80-f78440f48e31",
        "colab": {
          "base_uri": "https://localhost:8080/"
        }
      },
      "execution_count": 5,
      "outputs": [
        {
          "output_type": "stream",
          "name": "stdout",
          "text": [
            "/content/music-video-gen\n"
          ]
        }
      ]
    },
    {
      "cell_type": "code",
      "source": [
        "# see the README for detailed instructions\n",
        "\n",
        "!cat README.md"
      ],
      "metadata": {
        "id": "YF9fN4_4Rb6Q"
      },
      "execution_count": null,
      "outputs": []
    },
    {
      "cell_type": "code",
      "source": [
        "# this cell launches another notebook, on Modal,\n",
        "# where you can upload data and run training\n",
        "\n",
        "# click the stop button next to this cell or select \"Runtime > Interrupt execution\"\n",
        "# when you are done using the notebook\n",
        "\n",
        "!modal run train_from_notebook.py"
      ],
      "metadata": {
        "id": "S9T-Z6YeSU8g"
      },
      "execution_count": null,
      "outputs": []
    },
    {
      "cell_type": "code",
      "source": [
        "# if you didn't note the ID of your finetuned model, find it here\n",
        "\n",
        "!modal volume ls finetune-video-models"
      ],
      "metadata": {
        "id": "-H_aT5GqVZOr"
      },
      "execution_count": null,
      "outputs": []
    },
    {
      "cell_type": "code",
      "source": [
        "finetune_id = None  # set it here\n",
        "\n",
        "assert finetune_id is not None"
      ],
      "metadata": {
        "id": "K3pEP7QNVdcX"
      },
      "execution_count": null,
      "outputs": []
    },
    {
      "cell_type": "code",
      "source": [
        "!modal run inference.py --finetune-id {finetune_id} --num-frames 15"
      ],
      "metadata": {
        "id": "-SCUuH_hVVf-"
      },
      "execution_count": null,
      "outputs": []
    },
    {
      "cell_type": "code",
      "source": [
        "# find video files\n",
        "\n",
        "files = !find /tmp -name *.mp4\n",
        "files"
      ],
      "metadata": {
        "id": "GLVPQMLTWvMy"
      },
      "execution_count": null,
      "outputs": []
    },
    {
      "cell_type": "code",
      "source": [
        "# display video files in notebook\n",
        "import moviepy.editor\n",
        "\n",
        "# you can also find the /tmp folder in the file browser\n",
        "# to download them locally\n",
        "\n",
        "video = files[0]\n",
        "print(video)\n",
        "\n",
        "moviepy.editor.ipython_display(video)"
      ],
      "metadata": {
        "id": "AiwXteAfXtJu"
      },
      "execution_count": null,
      "outputs": []
    },
    {
      "cell_type": "code",
      "source": [
        "# deploy inference when you're ready\n",
        "!modal deploy inference.py"
      ],
      "metadata": {
        "id": "yPMMr2xYX4-b"
      },
      "execution_count": null,
      "outputs": []
    },
    {
      "cell_type": "code",
      "source": [
        "# once inference is deployed, you can run the music video generator\n",
        "!modal run music_video_generator.py --help"
      ],
      "metadata": {
        "id": "7UPYLoKtYSEH"
      },
      "execution_count": null,
      "outputs": []
    },
    {
      "cell_type": "code",
      "source": [
        "# this takes a few minutes and will consume a dollar or two of Modal resources!\n",
        "# note that Modal includes $30/month of free credits\n",
        "assert finetune_id is not None\n",
        "\n",
        "!modal run music_video_generator.py --finetune-id {finetune_id}"
      ],
      "metadata": {
        "id": "PDriH30cYkh6"
      },
      "execution_count": null,
      "outputs": []
    },
    {
      "cell_type": "code",
      "source": [
        "# find video files\n",
        "\n",
        "files = !find /tmp -name *.mp4\n",
        "files"
      ],
      "metadata": {
        "id": "suEkvDrIZDLJ"
      },
      "execution_count": null,
      "outputs": []
    },
    {
      "cell_type": "code",
      "source": [
        "# display video files in notebook\n",
        "import moviepy.editor\n",
        "\n",
        "# you can also find the /tmp folder in the file browser\n",
        "# to download them locally\n",
        "\n",
        "moviepy.editor.ipython_display(files[-1])"
      ],
      "metadata": {
        "id": "Sj7czaQEZEdc"
      },
      "execution_count": null,
      "outputs": []
    }
  ]
}